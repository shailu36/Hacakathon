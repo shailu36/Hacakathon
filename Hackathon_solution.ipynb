{
 "cells": [
  {
   "cell_type": "code",
   "execution_count": 474,
   "id": "fec0771f",
   "metadata": {},
   "outputs": [],
   "source": [
    "import warnings\n",
    "warnings.filterwarnings(\"ignore\")\n",
    "import pandas as pd\n",
    "import numpy as np\n",
    "import matplotlib.pyplot as plt\n",
    "%matplotlib inline\n",
    "import seaborn as sns\n",
    "\n",
    "from sklearn.model_selection import train_test_split, StratifiedKFold, cross_val_score\n",
    "from sklearn.preprocessing import StandardScaler, MinMaxScaler, OneHotEncoder\n",
    "import sklearn.tree# To impute missing values\n",
    "from sklearn.impute import KNNImputer ,SimpleImputer\n",
    "from sklearn.tree import DecisionTreeClassifier\n",
    "# To tune different models\n",
    "from sklearn.model_selection import GridSearchCV, train_test_split\n",
    "from sklearn.linear_model import LogisticRegression\n",
    "from sklearn.ensemble import (\n",
    "    AdaBoostClassifier,\n",
    "    GradientBoostingClassifier,\n",
    "    BaggingClassifier,\n",
    "    RandomForestClassifier    \n",
    ")\n",
    "\n",
    "from xgboost import XGBClassifier\n",
    "\n",
    "from imblearn.pipeline import Pipeline as imbpipeline\n",
    "\n",
    "# To perform statistical analysis\n",
    "import scipy.stats as stats\n",
    "\n",
    "from imblearn.over_sampling import SMOTE\n",
    "from imblearn.under_sampling import RandomUnderSampler\n",
    "\n",
    "# To get diferent metric scores\n",
    "from sklearn import metrics\n",
    "from sklearn.metrics import (\n",
    "    f1_score,\n",
    "    accuracy_score,\n",
    "    recall_score,\n",
    "    precision_score,\n",
    "    confusion_matrix,\n",
    "    plot_confusion_matrix,\n",
    "    make_scorer,\n",
    ")\n",
    "# To be used for tuning the model\n",
    "from sklearn.model_selection import GridSearchCV, RandomizedSearchCV\n",
    "\n",
    "# To be used for creating pipelines and personalizing them\n",
    "from sklearn.pipeline import Pipeline\n",
    "from sklearn.compose import ColumnTransformer\n",
    "from sklearn.decomposition import PCA"
   ]
  },
  {
   "cell_type": "code",
   "execution_count": 566,
   "id": "0ad9c6b3",
   "metadata": {},
   "outputs": [],
   "source": [
    "data = pd.read_csv(\"Train_set.csv\")\n"
   ]
  },
  {
   "cell_type": "code",
   "execution_count": 432,
   "id": "d7a5efba",
   "metadata": {},
   "outputs": [
    {
     "name": "stdout",
     "output_type": "stream",
     "text": [
      "<class 'pandas.core.frame.DataFrame'>\n",
      "RangeIndex: 93174 entries, 0 to 93173\n",
      "Data columns (total 23 columns):\n",
      " #   Column                      Non-Null Count  Dtype  \n",
      "---  ------                      --------------  -----  \n",
      " 0   ID                          93174 non-null  int64  \n",
      " 1   loan_amnt                   93174 non-null  int64  \n",
      " 2   loan_term                   93174 non-null  object \n",
      " 3   interest_rate               93174 non-null  float64\n",
      " 4   loan_grade                  93174 non-null  object \n",
      " 5   loan_subgrade               93174 non-null  object \n",
      " 6   job_experience              88472 non-null  object \n",
      " 7   home_ownership              93174 non-null  object \n",
      " 8   annual_income               93173 non-null  float64\n",
      " 9   income_verification_status  93174 non-null  object \n",
      " 10  loan_purpose                93174 non-null  object \n",
      " 11  state_code                  93174 non-null  object \n",
      " 12  debt_to_income              93174 non-null  float64\n",
      " 13  delinq_2yrs                 93172 non-null  float64\n",
      " 14  public_records              93172 non-null  float64\n",
      " 15  revolving_balance           93174 non-null  int64  \n",
      " 16  total_acc                   93172 non-null  float64\n",
      " 17  interest_receive            93174 non-null  float64\n",
      " 18  application_type            93174 non-null  object \n",
      " 19  last_week_pay               91250 non-null  float64\n",
      " 20  total_current_balance       85788 non-null  float64\n",
      " 21  total_revolving_limit       85788 non-null  float64\n",
      " 22  default                     93174 non-null  int64  \n",
      "dtypes: float64(10), int64(4), object(9)\n",
      "memory usage: 16.3+ MB\n"
     ]
    }
   ],
   "source": [
    "data.info()"
   ]
  },
  {
   "cell_type": "code",
   "execution_count": 623,
   "id": "9784a6e9",
   "metadata": {},
   "outputs": [],
   "source": [
    "dt = pd.read_csv(\"Test_set.csv\")"
   ]
  },
  {
   "cell_type": "code",
   "execution_count": 129,
   "id": "cf78cf2b",
   "metadata": {},
   "outputs": [
    {
     "name": "stdout",
     "output_type": "stream",
     "text": [
      "<class 'pandas.core.frame.DataFrame'>\n",
      "RangeIndex: 39933 entries, 0 to 39932\n",
      "Data columns (total 22 columns):\n",
      " #   Column                      Non-Null Count  Dtype  \n",
      "---  ------                      --------------  -----  \n",
      " 0   ID                          39933 non-null  int64  \n",
      " 1   loan_amnt                   39933 non-null  int64  \n",
      " 2   loan_term                   39933 non-null  object \n",
      " 3   interest_rate               39933 non-null  float64\n",
      " 4   loan_grade                  39933 non-null  object \n",
      " 5   loan_subgrade               39933 non-null  object \n",
      " 6   job_experience              37844 non-null  object \n",
      " 7   home_ownership              39933 non-null  object \n",
      " 8   annual_income               39933 non-null  float64\n",
      " 9   income_verification_status  39933 non-null  object \n",
      " 10  loan_purpose                39933 non-null  object \n",
      " 11  state_code                  39933 non-null  object \n",
      " 12  debt_to_income              39933 non-null  float64\n",
      " 13  delinq_2yrs                 39932 non-null  float64\n",
      " 14  public_records              39932 non-null  float64\n",
      " 15  revolving_balance           39933 non-null  int64  \n",
      " 16  total_acc                   39932 non-null  float64\n",
      " 17  interest_receive            39933 non-null  float64\n",
      " 18  application_type            39933 non-null  object \n",
      " 19  last_week_pay               39127 non-null  float64\n",
      " 20  total_current_balance       36703 non-null  float64\n",
      " 21  total_revolving_limit       36703 non-null  float64\n",
      "dtypes: float64(10), int64(3), object(9)\n",
      "memory usage: 6.7+ MB\n"
     ]
    }
   ],
   "source": [
    "dt.info()"
   ]
  },
  {
   "cell_type": "code",
   "execution_count": 567,
   "id": "3c26b98a",
   "metadata": {},
   "outputs": [],
   "source": [
    "df = data.copy()"
   ]
  },
  {
   "cell_type": "code",
   "execution_count": null,
   "id": "93f1b866",
   "metadata": {},
   "outputs": [],
   "source": [
    "df.drop(['state_code','loan_subgrade','ID'],axis=1,inplace=True)"
   ]
  },
  {
   "cell_type": "code",
   "execution_count": 624,
   "id": "f36eff67",
   "metadata": {},
   "outputs": [],
   "source": [
    "dt.drop(['state_code','loan_subgrade','ID'],axis=1,inplace=True)"
   ]
  },
  {
   "cell_type": "code",
   "execution_count": 586,
   "id": "a7436e31",
   "metadata": {},
   "outputs": [],
   "source": [
    "for cols in df.columns[df.dtypes == 'object']:\n",
    "       df[cols]= df[cols].astype('category')"
   ]
  },
  {
   "cell_type": "code",
   "execution_count": 625,
   "id": "94e91b53",
   "metadata": {},
   "outputs": [],
   "source": [
    "for cols in dt.columns[dt.dtypes == 'object']:\n",
    "       dt[cols]= dt[cols].astype('category')"
   ]
  },
  {
   "cell_type": "code",
   "execution_count": 583,
   "id": "aeef3997",
   "metadata": {},
   "outputs": [],
   "source": [
    "df['loan_term']=df['loan_term'].str.replace(' years','')"
   ]
  },
  {
   "cell_type": "code",
   "execution_count": 626,
   "id": "197cf907",
   "metadata": {},
   "outputs": [],
   "source": [
    "dt['loan_term']=dt['loan_term'].str.replace(' years','')"
   ]
  },
  {
   "cell_type": "code",
   "execution_count": 572,
   "id": "8efda373",
   "metadata": {},
   "outputs": [],
   "source": [
    "df['job_experience']=df['job_experience'].str.replace('<5 Years','LT5')"
   ]
  },
  {
   "cell_type": "code",
   "execution_count": 627,
   "id": "9c6e0c11",
   "metadata": {},
   "outputs": [],
   "source": [
    "dt['job_experience']=dt['job_experience'].str.replace('<5 Years','LT5')"
   ]
  },
  {
   "cell_type": "code",
   "execution_count": 578,
   "id": "5a33e275",
   "metadata": {},
   "outputs": [
    {
     "data": {
      "text/plain": [
       "array(['LT5', nan, 'GT10', 'LT10'], dtype=object)"
      ]
     },
     "execution_count": 578,
     "metadata": {},
     "output_type": "execute_result"
    }
   ],
   "source": [
    "df['job_experience'].unique()"
   ]
  },
  {
   "cell_type": "code",
   "execution_count": 632,
   "id": "ca730ab5",
   "metadata": {},
   "outputs": [
    {
     "data": {
      "text/plain": [
       "array(['LT5', 'GT10', 'LT10', nan], dtype=object)"
      ]
     },
     "execution_count": 632,
     "metadata": {},
     "output_type": "execute_result"
    }
   ],
   "source": [
    "dt['job_experience'].unique()"
   ]
  },
  {
   "cell_type": "code",
   "execution_count": 574,
   "id": "1be21e72",
   "metadata": {},
   "outputs": [],
   "source": [
    "df['job_experience']=df['job_experience'].str.replace('+','')"
   ]
  },
  {
   "cell_type": "code",
   "execution_count": 629,
   "id": "3de5b1a4",
   "metadata": {},
   "outputs": [],
   "source": [
    "dt['job_experience']=dt['job_experience'].str.replace('+','')"
   ]
  },
  {
   "cell_type": "code",
   "execution_count": 575,
   "id": "b87d0df3",
   "metadata": {},
   "outputs": [],
   "source": [
    "df['job_experience']=df['job_experience'].str.replace('10 years','GT10')"
   ]
  },
  {
   "cell_type": "code",
   "execution_count": 630,
   "id": "e6648ddc",
   "metadata": {},
   "outputs": [],
   "source": [
    "dt['job_experience']=dt['job_experience'].str.replace('10 years','GT10')"
   ]
  },
  {
   "cell_type": "code",
   "execution_count": 576,
   "id": "09b0e9b8",
   "metadata": {},
   "outputs": [],
   "source": [
    "df['job_experience']=df['job_experience'].str.replace('6-GT10','LT10')"
   ]
  },
  {
   "cell_type": "code",
   "execution_count": 631,
   "id": "4d7d4a7e",
   "metadata": {},
   "outputs": [],
   "source": [
    "dt['job_experience']=dt['job_experience'].str.replace('6-GT10','LT10')"
   ]
  },
  {
   "cell_type": "code",
   "execution_count": 443,
   "id": "3e87294a",
   "metadata": {},
   "outputs": [],
   "source": [
    "#df['job_experience']=df['job_experience'].fillna('NONE')"
   ]
  },
  {
   "cell_type": "code",
   "execution_count": 143,
   "id": "1631f2ba",
   "metadata": {},
   "outputs": [],
   "source": [
    "#dt['job_experience']=dt['job_experience'].fillna('NONE')"
   ]
  },
  {
   "cell_type": "code",
   "execution_count": 589,
   "id": "e0396801",
   "metadata": {},
   "outputs": [],
   "source": [
    "X = df.drop([\"default\"], axis=1)\n",
    "y = df[\"default\"]"
   ]
  },
  {
   "cell_type": "code",
   "execution_count": 633,
   "id": "87a49883",
   "metadata": {},
   "outputs": [],
   "source": [
    "Xt= dt.iloc[:,:]"
   ]
  },
  {
   "cell_type": "code",
   "execution_count": 590,
   "id": "8e76e5b2",
   "metadata": {},
   "outputs": [],
   "source": [
    "X_train, X_test, y_train, y_test = train_test_split(\n",
    "    X, y, test_size=0.3, random_state=1, stratify=y\n",
    ")"
   ]
  },
  {
   "cell_type": "code",
   "execution_count": 67,
   "id": "035e55de",
   "metadata": {},
   "outputs": [],
   "source": [
    "#from sklearn.preprocessing import MinMaxScaler\n",
    "# define min max scaler\n",
    "#scaler = MinMaxScaler()\n",
    " \n",
    "#X_train_scaled = scaler.fit_transform(X_train)\n",
    "#X_test_scaled =scaler.fit_transform(X_test)"
   ]
  },
  {
   "cell_type": "code",
   "execution_count": 176,
   "id": "0aa50d48",
   "metadata": {},
   "outputs": [
    {
     "name": "stdout",
     "output_type": "stream",
     "text": [
      "(65221, 19) (27953, 19)\n"
     ]
    }
   ],
   "source": [
    "print(X_train.shape,X_test.shape)"
   ]
  },
  {
   "cell_type": "code",
   "execution_count": 592,
   "id": "b7232ce5",
   "metadata": {},
   "outputs": [
    {
     "data": {
      "text/html": [
       "<div>\n",
       "<style scoped>\n",
       "    .dataframe tbody tr th:only-of-type {\n",
       "        vertical-align: middle;\n",
       "    }\n",
       "\n",
       "    .dataframe tbody tr th {\n",
       "        vertical-align: top;\n",
       "    }\n",
       "\n",
       "    .dataframe thead th {\n",
       "        text-align: right;\n",
       "    }\n",
       "</style>\n",
       "<table border=\"1\" class=\"dataframe\">\n",
       "  <thead>\n",
       "    <tr style=\"text-align: right;\">\n",
       "      <th></th>\n",
       "      <th>loan_amnt</th>\n",
       "      <th>loan_term</th>\n",
       "      <th>interest_rate</th>\n",
       "      <th>loan_grade</th>\n",
       "      <th>job_experience</th>\n",
       "      <th>home_ownership</th>\n",
       "      <th>annual_income</th>\n",
       "      <th>income_verification_status</th>\n",
       "      <th>loan_purpose</th>\n",
       "      <th>debt_to_income</th>\n",
       "      <th>delinq_2yrs</th>\n",
       "      <th>public_records</th>\n",
       "      <th>revolving_balance</th>\n",
       "      <th>total_acc</th>\n",
       "      <th>interest_receive</th>\n",
       "      <th>application_type</th>\n",
       "      <th>last_week_pay</th>\n",
       "      <th>total_current_balance</th>\n",
       "      <th>total_revolving_limit</th>\n",
       "    </tr>\n",
       "  </thead>\n",
       "  <tbody>\n",
       "    <tr>\n",
       "      <th>40883</th>\n",
       "      <td>18000</td>\n",
       "      <td>3</td>\n",
       "      <td>10.64</td>\n",
       "      <td>B</td>\n",
       "      <td>LT5</td>\n",
       "      <td>MORTGAGE</td>\n",
       "      <td>62000.0</td>\n",
       "      <td>Verified</td>\n",
       "      <td>debt_consolidation</td>\n",
       "      <td>20.11</td>\n",
       "      <td>1.0</td>\n",
       "      <td>0.0</td>\n",
       "      <td>4993</td>\n",
       "      <td>19.0</td>\n",
       "      <td>2922.63</td>\n",
       "      <td>INDIVIDUAL</td>\n",
       "      <td>122.0</td>\n",
       "      <td>168705.0</td>\n",
       "      <td>8300.0</td>\n",
       "    </tr>\n",
       "    <tr>\n",
       "      <th>70146</th>\n",
       "      <td>12000</td>\n",
       "      <td>5</td>\n",
       "      <td>13.33</td>\n",
       "      <td>C</td>\n",
       "      <td>GT10</td>\n",
       "      <td>MORTGAGE</td>\n",
       "      <td>65000.0</td>\n",
       "      <td>Not Verified</td>\n",
       "      <td>debt_consolidation</td>\n",
       "      <td>27.53</td>\n",
       "      <td>0.0</td>\n",
       "      <td>1.0</td>\n",
       "      <td>6539</td>\n",
       "      <td>16.0</td>\n",
       "      <td>377.39</td>\n",
       "      <td>INDIVIDUAL</td>\n",
       "      <td>13.0</td>\n",
       "      <td>58054.0</td>\n",
       "      <td>7300.0</td>\n",
       "    </tr>\n",
       "    <tr>\n",
       "      <th>84472</th>\n",
       "      <td>24000</td>\n",
       "      <td>3</td>\n",
       "      <td>7.90</td>\n",
       "      <td>A</td>\n",
       "      <td>LT5</td>\n",
       "      <td>RENT</td>\n",
       "      <td>102000.0</td>\n",
       "      <td>Verified</td>\n",
       "      <td>credit_card</td>\n",
       "      <td>11.60</td>\n",
       "      <td>0.0</td>\n",
       "      <td>0.0</td>\n",
       "      <td>14564</td>\n",
       "      <td>24.0</td>\n",
       "      <td>2684.27</td>\n",
       "      <td>INDIVIDUAL</td>\n",
       "      <td>113.0</td>\n",
       "      <td>28443.0</td>\n",
       "      <td>23600.0</td>\n",
       "    </tr>\n",
       "    <tr>\n",
       "      <th>81649</th>\n",
       "      <td>15000</td>\n",
       "      <td>3</td>\n",
       "      <td>14.31</td>\n",
       "      <td>C</td>\n",
       "      <td>GT10</td>\n",
       "      <td>MORTGAGE</td>\n",
       "      <td>76000.0</td>\n",
       "      <td>Source Verified</td>\n",
       "      <td>credit_card</td>\n",
       "      <td>32.95</td>\n",
       "      <td>0.0</td>\n",
       "      <td>0.0</td>\n",
       "      <td>28111</td>\n",
       "      <td>18.0</td>\n",
       "      <td>1738.33</td>\n",
       "      <td>INDIVIDUAL</td>\n",
       "      <td>52.0</td>\n",
       "      <td>210143.0</td>\n",
       "      <td>41900.0</td>\n",
       "    </tr>\n",
       "    <tr>\n",
       "      <th>47161</th>\n",
       "      <td>10000</td>\n",
       "      <td>3</td>\n",
       "      <td>8.18</td>\n",
       "      <td>B</td>\n",
       "      <td>GT10</td>\n",
       "      <td>OWN</td>\n",
       "      <td>61000.0</td>\n",
       "      <td>Source Verified</td>\n",
       "      <td>debt_consolidation</td>\n",
       "      <td>9.33</td>\n",
       "      <td>2.0</td>\n",
       "      <td>0.0</td>\n",
       "      <td>11382</td>\n",
       "      <td>44.0</td>\n",
       "      <td>253.47</td>\n",
       "      <td>INDIVIDUAL</td>\n",
       "      <td>17.0</td>\n",
       "      <td>196576.0</td>\n",
       "      <td>48400.0</td>\n",
       "    </tr>\n",
       "  </tbody>\n",
       "</table>\n",
       "</div>"
      ],
      "text/plain": [
       "       loan_amnt loan_term  interest_rate loan_grade job_experience  \\\n",
       "40883      18000         3          10.64          B            LT5   \n",
       "70146      12000         5          13.33          C           GT10   \n",
       "84472      24000         3           7.90          A            LT5   \n",
       "81649      15000         3          14.31          C           GT10   \n",
       "47161      10000         3           8.18          B           GT10   \n",
       "\n",
       "      home_ownership  annual_income income_verification_status  \\\n",
       "40883       MORTGAGE        62000.0                   Verified   \n",
       "70146       MORTGAGE        65000.0               Not Verified   \n",
       "84472           RENT       102000.0                   Verified   \n",
       "81649       MORTGAGE        76000.0            Source Verified   \n",
       "47161            OWN        61000.0            Source Verified   \n",
       "\n",
       "             loan_purpose  debt_to_income  delinq_2yrs  public_records  \\\n",
       "40883  debt_consolidation           20.11          1.0             0.0   \n",
       "70146  debt_consolidation           27.53          0.0             1.0   \n",
       "84472         credit_card           11.60          0.0             0.0   \n",
       "81649         credit_card           32.95          0.0             0.0   \n",
       "47161  debt_consolidation            9.33          2.0             0.0   \n",
       "\n",
       "       revolving_balance  total_acc  interest_receive application_type  \\\n",
       "40883               4993       19.0           2922.63       INDIVIDUAL   \n",
       "70146               6539       16.0            377.39       INDIVIDUAL   \n",
       "84472              14564       24.0           2684.27       INDIVIDUAL   \n",
       "81649              28111       18.0           1738.33       INDIVIDUAL   \n",
       "47161              11382       44.0            253.47       INDIVIDUAL   \n",
       "\n",
       "       last_week_pay  total_current_balance  total_revolving_limit  \n",
       "40883          122.0               168705.0                 8300.0  \n",
       "70146           13.0                58054.0                 7300.0  \n",
       "84472          113.0                28443.0                23600.0  \n",
       "81649           52.0               210143.0                41900.0  \n",
       "47161           17.0               196576.0                48400.0  "
      ]
     },
     "execution_count": 592,
     "metadata": {},
     "output_type": "execute_result"
    }
   ],
   "source": [
    "X_train.head()"
   ]
  },
  {
   "cell_type": "code",
   "execution_count": 116,
   "id": "a3db07b7",
   "metadata": {},
   "outputs": [],
   "source": [
    "def confusion_matrix_sklearn(model, predictors, target):\n",
    "    \"\"\"\n",
    "    To plot the confusion_matrix with percentages\n",
    "\n",
    "    model: classifier\n",
    "    predictors: independent variables\n",
    "    target: dependent variable\n",
    "    \"\"\"\n",
    "    y_pred = model.predict(predictors)\n",
    "    cm = confusion_matrix(target, y_pred)\n",
    "    labels = np.asarray(\n",
    "        [\n",
    "            [\"{0:0.0f}\".format(item) + \"\\n{0:.2%}\".format(item / cm.flatten().sum())]\n",
    "            for item in cm.flatten()\n",
    "        ]\n",
    "    ).reshape(2, 2)\n",
    "\n",
    "    plt.figure(figsize=(6, 4))\n",
    "    sns.heatmap(cm, annot=labels, fmt=\"\")\n",
    "    plt.ylabel(\"True label\")\n",
    "    plt.xlabel(\"Predicted label\")"
   ]
  },
  {
   "cell_type": "code",
   "execution_count": 593,
   "id": "ecc3791e",
   "metadata": {},
   "outputs": [],
   "source": [
    "#missing data imputation\n",
    "\n",
    "numerical_features = ['annual_income','delinq_2yrs','public_records','total_acc','last_week_pay','total_current_balance','total_revolving_limit']\n",
    "# creating a transformer for numerical variables, which will apply simple imputer on the numerical variables\n",
    "numeric_transformer = Pipeline(steps=[(\"imputer\", SimpleImputer(strategy=\"median\")),(\"sc1\", StandardScaler())])\n",
    "categorical_features = [\n",
    "  'loan_grade',\n",
    "  'job_experience',\n",
    "  'home_ownership',\n",
    "  'income_verification_status',\n",
    "  'loan_purpose',\n",
    "  'application_type',\n",
    "]\n",
    "\n",
    "categorical_transformer = Pipeline(\n",
    "    steps=[\n",
    "        (\"imputer\", SimpleImputer(strategy=\"most_frequent\")),\n",
    "        (\"onehot\", OneHotEncoder(handle_unknown=\"ignore\")),\n",
    "        \n",
    "    ]\n",
    ")\n",
    "#Buiding preprocessor\n",
    "preprocessor = ColumnTransformer(\n",
    "    transformers=[\n",
    "        (\"num\", numeric_transformer, numerical_features),\n",
    "        (\"cat\", categorical_transformer, categorical_features),\n",
    "        \n",
    "    ],\n",
    "    remainder=\"passthrough\",\n",
    ")"
   ]
  },
  {
   "cell_type": "code",
   "execution_count": 681,
   "id": "ee9797cb",
   "metadata": {},
   "outputs": [
    {
     "data": {
      "text/plain": [
       "Pipeline(steps=[('pre',\n",
       "                 ColumnTransformer(remainder='passthrough',\n",
       "                                   transformers=[('num',\n",
       "                                                  Pipeline(steps=[('imputer',\n",
       "                                                                   SimpleImputer(strategy='median')),\n",
       "                                                                  ('sc1',\n",
       "                                                                   StandardScaler())]),\n",
       "                                                  ['annual_income',\n",
       "                                                   'delinq_2yrs',\n",
       "                                                   'public_records',\n",
       "                                                   'total_acc', 'last_week_pay',\n",
       "                                                   'total_current_balance',\n",
       "                                                   'total_revolving_limit']),\n",
       "                                                 ('cat',\n",
       "                                                  Pipeline(steps=[('imputer',\n",
       "                                                                   SimpleImputer(st...equent')),\n",
       "                                                                  ('onehot',\n",
       "                                                                   OneHotEncoder(handle_unknown='ignore'))]),\n",
       "                                                  ['loan_grade',\n",
       "                                                   'job_experience',\n",
       "                                                   'home_ownership',\n",
       "                                                   'income_verification_status',\n",
       "                                                   'loan_purpose',\n",
       "                                                   'application_type'])])),\n",
       "                ('XGB',\n",
       "                 GradientBoostingClassifier(init=AdaBoostClassifier(random_state=1),\n",
       "                                            learning_rate=0.2, max_depth=9,\n",
       "                                            max_features=0.9, n_estimators=3000,\n",
       "                                            subsample=0.9, warm_start=True))])"
      ]
     },
     "execution_count": 681,
     "metadata": {},
     "output_type": "execute_result"
    }
   ],
   "source": [
    "# Creating new pipeline with best parameters\n",
    "model = Pipeline(\n",
    "    steps=[\n",
    "        (\"pre\", preprocessor),\n",
    "         ( \"XGB\",           \n",
    "             GradientBoostingClassifier(init=AdaBoostClassifier(random_state=1),\n",
    "                               n_estimators=3000,\n",
    "                               learning_rate=0.2,\n",
    "                               subsample=0.9,\n",
    "                               max_features=0.9,\n",
    "                              criterion='friedman_mse',\n",
    "                              max_depth=9,\n",
    "                              warm_start=True\n",
    "        ),\n",
    "       ),\n",
    "    ]\n",
    ")\n",
    "# Fit the model on training data\n",
    "model.fit(X_train, y_train)"
   ]
  },
  {
   "cell_type": "code",
   "execution_count": 329,
   "id": "cd3d8779",
   "metadata": {},
   "outputs": [],
   "source": [
    "# defining a function to compute different metrics to check performance of a classification model built using sklearn\n",
    "def model_performance_classification_sklearn(model, predictors, target):\n",
    "    \"\"\"\n",
    "    Function to compute different metrics to check classification model performance\n",
    "\n",
    "\n",
    "\n",
    "    model: classifier\n",
    "    predictors: independent variables\n",
    "    target: dependent variable\n",
    "    \"\"\"\n",
    "\n",
    "    # predicting using the independent variables\n",
    "    pred = model.predict(predictors)\n",
    "\n",
    "    acc = accuracy_score(target, pred)  # to compute Accuracy\n",
    "    recall = recall_score(target, pred)  # to compute Recall\n",
    "    precision = precision_score(target, pred)  # to compute Precision\n",
    "    f1 = f1_score(target, pred)  # to compute F1-score\n",
    "\n",
    "    # creating a dataframe of metrics\n",
    "    df_perf = pd.DataFrame(\n",
    "        {\n",
    "            \"Accuracy\": acc,\n",
    "            \"Recall\": recall,\n",
    "            \"Precision\": precision,\n",
    "            \"F1\": f1,\n",
    "        },\n",
    "        index=[0],\n",
    "    )\n",
    "\n",
    "    return df_perf"
   ]
  },
  {
   "cell_type": "code",
   "execution_count": 73,
   "id": "ffca7a97",
   "metadata": {},
   "outputs": [],
   "source": [
    "def confusion_matrix_sklearn(model, predictors, target):\n",
    "    \"\"\"\n",
    "    To plot the confusion_matrix with percentages\n",
    "\n",
    "    model: classifier\n",
    "    predictors: independent variables\n",
    "    target: dependent variable\n",
    "    \"\"\"\n",
    "    y_pred = model.predict(predictors)\n",
    "    cm = confusion_matrix(target, y_pred)\n",
    "    labels = np.asarray(\n",
    "        [\n",
    "            [\"{0:0.0f}\".format(item) + \"\\n{0:.2%}\".format(item / cm.flatten().sum())]\n",
    "            for item in cm.flatten()\n",
    "        ]\n",
    "    ).reshape(2, 2)\n",
    "\n",
    "    plt.figure(figsize=(6, 4))\n",
    "    sns.heatmap(cm, annot=labels, fmt=\"\")\n",
    "    plt.ylabel(\"True label\")\n",
    "    plt.xlabel(\"Predicted label\")"
   ]
  },
  {
   "cell_type": "code",
   "execution_count": 682,
   "id": "c8dbc8da",
   "metadata": {},
   "outputs": [
    {
     "name": "stdout",
     "output_type": "stream",
     "text": [
      "Testing performance for Train.csv:\n"
     ]
    },
    {
     "data": {
      "text/html": [
       "<div>\n",
       "<style scoped>\n",
       "    .dataframe tbody tr th:only-of-type {\n",
       "        vertical-align: middle;\n",
       "    }\n",
       "\n",
       "    .dataframe tbody tr th {\n",
       "        vertical-align: top;\n",
       "    }\n",
       "\n",
       "    .dataframe thead th {\n",
       "        text-align: right;\n",
       "    }\n",
       "</style>\n",
       "<table border=\"1\" class=\"dataframe\">\n",
       "  <thead>\n",
       "    <tr style=\"text-align: right;\">\n",
       "      <th></th>\n",
       "      <th>Accuracy</th>\n",
       "      <th>Recall</th>\n",
       "      <th>Precision</th>\n",
       "      <th>F1</th>\n",
       "    </tr>\n",
       "  </thead>\n",
       "  <tbody>\n",
       "    <tr>\n",
       "      <th>0</th>\n",
       "      <td>1.0</td>\n",
       "      <td>1.0</td>\n",
       "      <td>1.0</td>\n",
       "      <td>1.0</td>\n",
       "    </tr>\n",
       "  </tbody>\n",
       "</table>\n",
       "</div>"
      ],
      "text/plain": [
       "   Accuracy  Recall  Precision   F1\n",
       "0       1.0     1.0        1.0  1.0"
      ]
     },
     "execution_count": 682,
     "metadata": {},
     "output_type": "execute_result"
    }
   ],
   "source": [
    "# metrics on test data from Test.csv\n",
    "model_perf = model_performance_classification_sklearn(\n",
    "    model, X_train,y_train\n",
    ")\n",
    "print(\"Testing performance for Train.csv:\")\n",
    "model_perf"
   ]
  },
  {
   "cell_type": "code",
   "execution_count": 683,
   "id": "d4d90bfa",
   "metadata": {},
   "outputs": [
    {
     "name": "stdout",
     "output_type": "stream",
     "text": [
      "Testing performance for Train.csv:\n"
     ]
    },
    {
     "data": {
      "text/html": [
       "<div>\n",
       "<style scoped>\n",
       "    .dataframe tbody tr th:only-of-type {\n",
       "        vertical-align: middle;\n",
       "    }\n",
       "\n",
       "    .dataframe tbody tr th {\n",
       "        vertical-align: top;\n",
       "    }\n",
       "\n",
       "    .dataframe thead th {\n",
       "        text-align: right;\n",
       "    }\n",
       "</style>\n",
       "<table border=\"1\" class=\"dataframe\">\n",
       "  <thead>\n",
       "    <tr style=\"text-align: right;\">\n",
       "      <th></th>\n",
       "      <th>Accuracy</th>\n",
       "      <th>Recall</th>\n",
       "      <th>Precision</th>\n",
       "      <th>F1</th>\n",
       "    </tr>\n",
       "  </thead>\n",
       "  <tbody>\n",
       "    <tr>\n",
       "      <th>0</th>\n",
       "      <td>0.868887</td>\n",
       "      <td>0.580358</td>\n",
       "      <td>0.814243</td>\n",
       "      <td>0.677689</td>\n",
       "    </tr>\n",
       "  </tbody>\n",
       "</table>\n",
       "</div>"
      ],
      "text/plain": [
       "   Accuracy    Recall  Precision        F1\n",
       "0  0.868887  0.580358   0.814243  0.677689"
      ]
     },
     "execution_count": 683,
     "metadata": {},
     "output_type": "execute_result"
    }
   ],
   "source": [
    "# metrics on test data from Test.csv\n",
    "model_perf = model_performance_classification_sklearn(\n",
    "    model, X_test,y_test\n",
    ")\n",
    "print(\"Testing performance for Train.csv:\")\n",
    "model_perf"
   ]
  },
  {
   "cell_type": "code",
   "execution_count": 686,
   "id": "0e3c57f4",
   "metadata": {},
   "outputs": [],
   "source": [
    "var= model.predict(Xt)"
   ]
  },
  {
   "cell_type": "code",
   "execution_count": 687,
   "id": "9934c120",
   "metadata": {},
   "outputs": [],
   "source": [
    "result = pd.DataFrame()"
   ]
  },
  {
   "cell_type": "code",
   "execution_count": 690,
   "id": "79a9f25a",
   "metadata": {},
   "outputs": [],
   "source": [
    "result['default']=var"
   ]
  },
  {
   "cell_type": "code",
   "execution_count": 688,
   "id": "7ce56614",
   "metadata": {},
   "outputs": [],
   "source": [
    "dt = pd.read_csv(\"Test_set.csv\")"
   ]
  },
  {
   "cell_type": "code",
   "execution_count": 689,
   "id": "1b128d76",
   "metadata": {},
   "outputs": [],
   "source": [
    "result['ID']= dt['ID']"
   ]
  },
  {
   "cell_type": "code",
   "execution_count": 691,
   "id": "cf1f5f5a",
   "metadata": {
    "scrolled": true
   },
   "outputs": [
    {
     "data": {
      "text/html": [
       "<div>\n",
       "<style scoped>\n",
       "    .dataframe tbody tr th:only-of-type {\n",
       "        vertical-align: middle;\n",
       "    }\n",
       "\n",
       "    .dataframe tbody tr th {\n",
       "        vertical-align: top;\n",
       "    }\n",
       "\n",
       "    .dataframe thead th {\n",
       "        text-align: right;\n",
       "    }\n",
       "</style>\n",
       "<table border=\"1\" class=\"dataframe\">\n",
       "  <thead>\n",
       "    <tr style=\"text-align: right;\">\n",
       "      <th></th>\n",
       "      <th>ID</th>\n",
       "      <th>default</th>\n",
       "    </tr>\n",
       "  </thead>\n",
       "  <tbody>\n",
       "    <tr>\n",
       "      <th>0</th>\n",
       "      <td>4855329</td>\n",
       "      <td>0</td>\n",
       "    </tr>\n",
       "    <tr>\n",
       "      <th>1</th>\n",
       "      <td>66862420</td>\n",
       "      <td>0</td>\n",
       "    </tr>\n",
       "    <tr>\n",
       "      <th>2</th>\n",
       "      <td>3637416</td>\n",
       "      <td>1</td>\n",
       "    </tr>\n",
       "    <tr>\n",
       "      <th>3</th>\n",
       "      <td>53682249</td>\n",
       "      <td>0</td>\n",
       "    </tr>\n",
       "    <tr>\n",
       "      <th>4</th>\n",
       "      <td>53937165</td>\n",
       "      <td>0</td>\n",
       "    </tr>\n",
       "  </tbody>\n",
       "</table>\n",
       "</div>"
      ],
      "text/plain": [
       "         ID  default\n",
       "0   4855329        0\n",
       "1  66862420        0\n",
       "2   3637416        1\n",
       "3  53682249        0\n",
       "4  53937165        0"
      ]
     },
     "execution_count": 691,
     "metadata": {},
     "output_type": "execute_result"
    }
   ],
   "source": [
    "result.head()"
   ]
  },
  {
   "cell_type": "code",
   "execution_count": 693,
   "id": "4ed4c5ea",
   "metadata": {},
   "outputs": [],
   "source": [
    "result.to_csv('results9.csv')"
   ]
  },
  {
   "cell_type": "code",
   "execution_count": null,
   "id": "ffe3c79a",
   "metadata": {},
   "outputs": [],
   "source": []
  }
 ],
 "metadata": {
  "kernelspec": {
   "display_name": "Python 3",
   "language": "python",
   "name": "python3"
  },
  "language_info": {
   "codemirror_mode": {
    "name": "ipython",
    "version": 3
   },
   "file_extension": ".py",
   "mimetype": "text/x-python",
   "name": "python",
   "nbconvert_exporter": "python",
   "pygments_lexer": "ipython3",
   "version": "3.8.8"
  }
 },
 "nbformat": 4,
 "nbformat_minor": 5
}
